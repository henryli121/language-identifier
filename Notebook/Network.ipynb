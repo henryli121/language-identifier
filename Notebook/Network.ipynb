{
 "cells": [
  {
   "cell_type": "code",
   "execution_count": 1,
   "id": "ee721396-f6a8-4a30-a6df-e8976a9751d0",
   "metadata": {},
   "outputs": [],
   "source": [
    "from tensorflow.keras.models import Sequential\n",
    "from tensorflow.keras.layers import Dense, Dropout, LSTM\n",
    "import tensorflow as tf\n",
    "import numpy as np\n",
    "import os"
   ]
  },
  {
   "cell_type": "code",
   "execution_count": 2,
   "id": "7659d6de",
   "metadata": {},
   "outputs": [
    {
     "name": "stdout",
     "output_type": "stream",
     "text": [
      "D:\\Language Identifier\\Notebook\n"
     ]
    }
   ],
   "source": [
    "cwd = os.getcwd()\n",
    "print(cwd)"
   ]
  },
  {
   "cell_type": "code",
   "execution_count": 3,
   "id": "117cc126-e000-47cb-83aa-e25590d58e69",
   "metadata": {},
   "outputs": [],
   "source": [
    "X_input = np.load(\"D:/Language Identifier/Data/input_X.npy\")\n",
    "Y_input = np.load(\"D:/Language Identifier/Data/input_Y.npy\")"
   ]
  },
  {
   "cell_type": "code",
   "execution_count": 5,
   "id": "cece3a63-a0a2-49a1-8f03-6f3c0e2a798b",
   "metadata": {},
   "outputs": [],
   "source": [
    "x_train = X_input[:25000]\n",
    "x_test = X_input[25000:30000]\n",
    "y_train = Y_input[:25000]\n",
    "y_test = Y_input[25000:30000]"
   ]
  },
  {
   "cell_type": "code",
   "execution_count": 6,
   "id": "fba43e18-6e2c-49ed-81f3-4c7b2ebec55b",
   "metadata": {},
   "outputs": [
    {
     "name": "stdout",
     "output_type": "stream",
     "text": [
      "Epoch 1/15\n",
      "782/782 [==============================] - 27s 34ms/step - loss: 1.1794 - accuracy: 0.4850 - val_loss: 0.7734 - val_accuracy: 0.7248\n",
      "Epoch 2/15\n",
      "782/782 [==============================] - 25s 33ms/step - loss: 0.8957 - accuracy: 0.7104 - val_loss: 0.5885 - val_accuracy: 0.8092\n",
      "Epoch 3/15\n",
      "782/782 [==============================] - 26s 33ms/step - loss: 0.5715 - accuracy: 0.8060 - val_loss: 0.4069 - val_accuracy: 0.8614\n",
      "Epoch 4/15\n",
      "782/782 [==============================] - 26s 33ms/step - loss: 0.4345 - accuracy: 0.8573 - val_loss: 0.3194 - val_accuracy: 0.8938\n",
      "Epoch 5/15\n",
      "782/782 [==============================] - 26s 34ms/step - loss: 0.6436 - accuracy: 0.8292 - val_loss: 0.3624 - val_accuracy: 0.8734\n",
      "Epoch 6/15\n",
      "782/782 [==============================] - 26s 33ms/step - loss: 0.3725 - accuracy: 0.8777 - val_loss: 0.2847 - val_accuracy: 0.9032\n",
      "Epoch 7/15\n",
      "782/782 [==============================] - 26s 33ms/step - loss: 0.3082 - accuracy: 0.9012 - val_loss: 0.2697 - val_accuracy: 0.9102\n",
      "Epoch 8/15\n",
      "782/782 [==============================] - 26s 33ms/step - loss: 0.2738 - accuracy: 0.9143 - val_loss: 0.2414 - val_accuracy: 0.9232\n",
      "Epoch 9/15\n",
      "782/782 [==============================] - 27s 34ms/step - loss: 0.2578 - accuracy: 0.9199 - val_loss: 0.2038 - val_accuracy: 0.9368\n",
      "Epoch 10/15\n",
      "782/782 [==============================] - 27s 35ms/step - loss: 0.2305 - accuracy: 0.9303 - val_loss: 0.1767 - val_accuracy: 0.9444\n",
      "Epoch 11/15\n",
      "782/782 [==============================] - 27s 35ms/step - loss: 0.1974 - accuracy: 0.9401 - val_loss: 0.1852 - val_accuracy: 0.9436\n",
      "Epoch 12/15\n",
      "782/782 [==============================] - 27s 35ms/step - loss: 0.1766 - accuracy: 0.9477 - val_loss: 0.1592 - val_accuracy: 0.9518\n",
      "Epoch 13/15\n",
      "782/782 [==============================] - 27s 34ms/step - loss: 0.1655 - accuracy: 0.9516 - val_loss: 0.2070 - val_accuracy: 0.9376\n",
      "Epoch 14/15\n",
      "782/782 [==============================] - 27s 35ms/step - loss: 0.1797 - accuracy: 0.9485 - val_loss: 0.4245 - val_accuracy: 0.9530\n",
      "Epoch 15/15\n",
      "782/782 [==============================] - 27s 35ms/step - loss: 0.1463 - accuracy: 0.9577 - val_loss: 0.1945 - val_accuracy: 0.9446\n"
     ]
    },
    {
     "data": {
      "text/plain": [
       "<tensorflow.python.keras.callbacks.History at 0x1ff5befea90>"
      ]
     },
     "execution_count": 6,
     "metadata": {},
     "output_type": "execute_result"
    }
   ],
   "source": [
    "model = Sequential()\n",
    "\n",
    "model.add(LSTM(128, input_shape=(x_train.shape[1:]), activation='relu', return_sequences=True))\n",
    "model.add(Dropout(0.2))\n",
    "\n",
    "model.add(LSTM(64, activation='relu'))\n",
    "model.add(Dropout(0.2))\n",
    "\n",
    "model.add(Dense(32, activation='relu'))\n",
    "model.add(Dropout(0.2))\n",
    "\n",
    "model.add(Dense(6, activation='softmax'))\n",
    "\n",
    "opt = tf.keras.optimizers.Adam(learning_rate=0.001, decay=1e-6)\n",
    "\n",
    "model.compile(\n",
    "    loss='categorical_crossentropy',\n",
    "    optimizer=opt,\n",
    "    metrics=['accuracy'],\n",
    ")\n",
    "\n",
    "model.fit(x_train,\n",
    "          y_train,\n",
    "          epochs = 15, batch_size = 32,\n",
    "          validation_data=(x_test, y_test))"
   ]
  },
  {
   "cell_type": "code",
   "execution_count": 9,
   "id": "521a9d8a-59d0-4dd2-bd68-2032a470027f",
   "metadata": {},
   "outputs": [
    {
     "name": "stdout",
     "output_type": "stream",
     "text": [
      "INFO:tensorflow:Assets written to: /usr/local/NNShared/hali/Model/model1.model/assets\n"
     ]
    },
    {
     "name": "stderr",
     "output_type": "stream",
     "text": [
      "WARNING:absl:<keras.layers.recurrent.LSTMCell object at 0x7f22645c82b0> has the same name 'LSTMCell' as a built-in Keras object. Consider renaming <class 'keras.layers.recurrent.LSTMCell'> to avoid naming conflicts when loading with `tf.keras.models.load_model`. If renaming is not possible, pass the object in the `custom_objects` parameter of the load function.\n",
      "WARNING:absl:<keras.layers.recurrent.LSTMCell object at 0x7f23b3231d30> has the same name 'LSTMCell' as a built-in Keras object. Consider renaming <class 'keras.layers.recurrent.LSTMCell'> to avoid naming conflicts when loading with `tf.keras.models.load_model`. If renaming is not possible, pass the object in the `custom_objects` parameter of the load function.\n"
     ]
    }
   ],
   "source": [
    "model.save(\"/Volumes/Henry's/Language Identifier/Model/model1.model\")"
   ]
  },
  {
   "cell_type": "code",
   "execution_count": 54,
   "id": "d8d57c0b-8a39-4b5f-a618-0d38fdcc9929",
   "metadata": {},
   "outputs": [
    {
     "name": "stdout",
     "output_type": "stream",
     "text": [
      "[[0 0 1 ... 0 0 0]\n",
      " [0 0 0 ... 0 0 0]\n",
      " [1 0 0 ... 0 0 0]\n",
      " ...\n",
      " [1 0 0 ... 0 0 0]\n",
      " [0 0 0 ... 0 0 0]\n",
      " [0 1 0 ... 0 0 0]]\n",
      "[0 0 1 0 0 0]\n",
      "2\n"
     ]
    }
   ],
   "source": [
    "### Applications ###\n",
    "\n",
    "new_model = tf.keras.models.load_model(\"/Volumes/Henry's/Language Identifier/Model/model1.model\")\n",
    "prediction = new_model.predict([x_test])\n",
    "\n",
    "print(x_test[6])\n",
    "print(y_test[6])\n",
    "print(np.argmax(prediction[6]))"
   ]
  },
  {
   "cell_type": "code",
   "execution_count": 4,
   "id": "3856fcd8-7f7e-4d91-a44e-b9555793b85e",
   "metadata": {},
   "outputs": [],
   "source": [
    "def language_detector(sentence):\n",
    "    if len(sentence) < 30:\n",
    "        print('sentence is too short. Try a longer one.')\n",
    "    else:\n",
    "        sentence = sentence[:30].lower()\n",
    "        test =  np.array([np.reshape(string_vectorizer(sentence, dic),(len(sentence),len(dic)))])\n",
    "        prediction = np.argmax(new_model.predict([test]))\n",
    "        \n",
    "        if prediction == 0:\n",
    "            print('It is English')\n",
    "        elif prediction == 4:\n",
    "            print('It is French')\n",
    "        elif prediction == 5:\n",
    "            print('It is Finnish')\n",
    "        elif prediction == 2:\n",
    "            print('It is Dutch')\n",
    "        elif prediction == 3:\n",
    "            print('It is German')\n",
    "        elif prediction == 1:\n",
    "            print('It is Portuguese')\n",
    "            \n",
    "def string_vectorizer(strng, dic):\n",
    "    vector = [[0 if char != letter.lower() else 1 for char in dic] \n",
    "                for letter in strng]\n",
    "    return vector"
   ]
  },
  {
   "cell_type": "code",
   "execution_count": 5,
   "id": "cc9a4863-2d50-43a3-8b58-2d1cb57b8cf6",
   "metadata": {},
   "outputs": [
    {
     "name": "stderr",
     "output_type": "stream",
     "text": [
      "2021-12-06 11:54:29.574599: I tensorflow/core/platform/cpu_feature_guard.cc:142] This TensorFlow binary is optimized with oneAPI Deep Neural Network Library (oneDNN) to use the following CPU instructions in performance-critical operations:  AVX2 FMA\n",
      "To enable them in other operations, rebuild TensorFlow with the appropriate compiler flags.\n"
     ]
    }
   ],
   "source": [
    "import json\n",
    "import tensorflow as tf\n",
    "import numpy as np\n",
    "\n",
    "dic = json.load(open(\"/Volumes/Henry's/Language Identifier/Data/characterdic.json\", 'r'))\n",
    "new_model = tf.keras.models.load_model(\"/Volumes/Henry's/Language Identifier/Model/model1.model\")"
   ]
  },
  {
   "cell_type": "code",
   "execution_count": 7,
   "id": "dd51aa2d-a6af-4422-82a7-8080dc5a1675",
   "metadata": {},
   "outputs": [
    {
     "name": "stdout",
     "output_type": "stream",
     "text": [
      "Enter your sentence:\n",
      "Mais pas seulement ! Le français a aussi été influencé par la langue de ses pays voisins : l'anglais, l'espagnol, l'italien, l'arabe, etc.\n",
      "It is French\n"
     ]
    }
   ],
   "source": [
    "print('Enter your sentence:')\n",
    "sentence = input()\n",
    "language_detector(sentence)"
   ]
  },
  {
   "cell_type": "code",
   "execution_count": null,
   "id": "c8ce6dca-0f0c-4838-8fb1-cefd08fc2de3",
   "metadata": {},
   "outputs": [],
   "source": []
  },
  {
   "cell_type": "code",
   "execution_count": null,
   "id": "e70b06fa-4a3e-4906-943e-31817f6c4a26",
   "metadata": {},
   "outputs": [],
   "source": []
  }
 ],
 "metadata": {
  "hide_input": false,
  "kernelspec": {
   "display_name": "Python 3",
   "language": "python",
   "name": "python3"
  },
  "language_info": {
   "codemirror_mode": {
    "name": "ipython",
    "version": 3
   },
   "file_extension": ".py",
   "mimetype": "text/x-python",
   "name": "python",
   "nbconvert_exporter": "python",
   "pygments_lexer": "ipython3",
   "version": "3.8.8"
  },
  "latex_envs": {
   "LaTeX_envs_menu_present": true,
   "autoclose": false,
   "autocomplete": true,
   "bibliofile": "biblio.bib",
   "cite_by": "apalike",
   "current_citInitial": 1,
   "eqLabelWithNumbers": true,
   "eqNumInitial": 1,
   "hotkeys": {
    "equation": "Ctrl-E",
    "itemize": "Ctrl-I"
   },
   "labels_anchors": false,
   "latex_user_defs": false,
   "report_style_numbering": false,
   "user_envs_cfg": false
  }
 },
 "nbformat": 4,
 "nbformat_minor": 5
}
